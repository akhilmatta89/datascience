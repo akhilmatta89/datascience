{
 "cells": [
  {
   "cell_type": "markdown",
   "id": "1fff3029",
   "metadata": {},
   "source": [
    "# NumPy Arrays"
   ]
  },
  {
   "cell_type": "code",
   "execution_count": 1,
   "id": "1aa56705",
   "metadata": {},
   "outputs": [],
   "source": [
    "import numpy as np"
   ]
  },
  {
   "cell_type": "markdown",
   "id": "64fa10e9",
   "metadata": {},
   "source": [
    "OnE dimensional Array"
   ]
  },
  {
   "cell_type": "code",
   "execution_count": 2,
   "id": "26095e21",
   "metadata": {},
   "outputs": [
    {
     "data": {
      "text/plain": [
       "array([1, 2, 3])"
      ]
     },
     "execution_count": 2,
     "metadata": {},
     "output_type": "execute_result"
    }
   ],
   "source": [
    "my_list = [1,2,3]\n",
    "np.array(my_list)"
   ]
  },
  {
   "cell_type": "markdown",
   "id": "8169b9a6",
   "metadata": {},
   "source": [
    "2-Dimensional Array"
   ]
  },
  {
   "cell_type": "code",
   "execution_count": 3,
   "id": "21585afc",
   "metadata": {},
   "outputs": [
    {
     "data": {
      "text/plain": [
       "array([[1, 2, 3],\n",
       "       [4, 5, 6],\n",
       "       [7, 8, 9]])"
      ]
     },
     "execution_count": 3,
     "metadata": {},
     "output_type": "execute_result"
    }
   ],
   "source": [
    "my_list_1=[[1,2,3],[4,5,6],[7,8,9]]\n",
    "np.array(my_list_1)"
   ]
  },
  {
   "cell_type": "markdown",
   "id": "a894f9fe",
   "metadata": {},
   "source": [
    "Python's range with numpy"
   ]
  },
  {
   "cell_type": "code",
   "execution_count": 4,
   "id": "eb0050b9",
   "metadata": {},
   "outputs": [
    {
     "data": {
      "text/plain": [
       "array([0, 1, 2, 3, 4, 5, 6, 7, 8, 9])"
      ]
     },
     "execution_count": 4,
     "metadata": {},
     "output_type": "execute_result"
    }
   ],
   "source": [
    "np.arange(0,10)"
   ]
  },
  {
   "cell_type": "code",
   "execution_count": 5,
   "id": "aba43c4a",
   "metadata": {},
   "outputs": [
    {
     "data": {
      "text/plain": [
       "array([0, 2, 4, 6, 8])"
      ]
     },
     "execution_count": 5,
     "metadata": {},
     "output_type": "execute_result"
    }
   ],
   "source": [
    "#arange with stepsize\n",
    "np.arange(0,10,2)"
   ]
  },
  {
   "cell_type": "code",
   "execution_count": 6,
   "id": "0df6ceda",
   "metadata": {},
   "outputs": [
    {
     "data": {
      "text/plain": [
       "array([0., 0., 0.])"
      ]
     },
     "execution_count": 6,
     "metadata": {},
     "output_type": "execute_result"
    }
   ],
   "source": [
    "#zeros method in numpy for 1-d array\n",
    "np.zeros(3)"
   ]
  },
  {
   "cell_type": "code",
   "execution_count": 10,
   "id": "8f0a49dc",
   "metadata": {},
   "outputs": [
    {
     "data": {
      "text/plain": [
       "array([[0., 0., 0., 0.],\n",
       "       [0., 0., 0., 0.],\n",
       "       [0., 0., 0., 0.],\n",
       "       [0., 0., 0., 0.]])"
      ]
     },
     "execution_count": 10,
     "metadata": {},
     "output_type": "execute_result"
    }
   ],
   "source": [
    "#zeros with 2-d array\n",
    "np.zeros((4,4))"
   ]
  },
  {
   "cell_type": "code",
   "execution_count": 11,
   "id": "26de0002",
   "metadata": {},
   "outputs": [
    {
     "data": {
      "text/plain": [
       "array([1., 1., 1.])"
      ]
     },
     "execution_count": 11,
     "metadata": {},
     "output_type": "execute_result"
    }
   ],
   "source": [
    "#ones Method\n",
    "np.ones(3)"
   ]
  },
  {
   "cell_type": "code",
   "execution_count": 12,
   "id": "5e5c7c65",
   "metadata": {},
   "outputs": [
    {
     "data": {
      "text/plain": [
       "array([[1., 1., 1., 1., 1.],\n",
       "       [1., 1., 1., 1., 1.]])"
      ]
     },
     "execution_count": 12,
     "metadata": {},
     "output_type": "execute_result"
    }
   ],
   "source": [
    "#ones Method 2-d array\n",
    "np.ones((2,5))"
   ]
  },
  {
   "cell_type": "markdown",
   "id": "0a4e8b1d",
   "metadata": {},
   "source": [
    "Linspace Method"
   ]
  },
  {
   "cell_type": "code",
   "execution_count": 13,
   "id": "f7d01787",
   "metadata": {},
   "outputs": [
    {
     "data": {
      "text/plain": [
       "array([0.        , 0.55555556, 1.11111111, 1.66666667, 2.22222222,\n",
       "       2.77777778, 3.33333333, 3.88888889, 4.44444444, 5.        ])"
      ]
     },
     "execution_count": 13,
     "metadata": {},
     "output_type": "execute_result"
    }
   ],
   "source": [
    "#this is same as arange method but atlast arange has the step size but linspace give sthe evenly spaced points between start and end\n",
    "np.linspace(0,5,10)"
   ]
  },
  {
   "cell_type": "markdown",
   "id": "cc79daee",
   "metadata": {},
   "source": [
    "Identity Matrix using Numpy(np.eye)"
   ]
  },
  {
   "cell_type": "code",
   "execution_count": 14,
   "id": "d338a1ef",
   "metadata": {},
   "outputs": [],
   "source": [
    "#it is useful when you are dealing with linear algebra problems\n",
    "#Basically its a 2-d array with diagonally 1's present"
   ]
  },
  {
   "cell_type": "code",
   "execution_count": 15,
   "id": "696e1103",
   "metadata": {},
   "outputs": [
    {
     "data": {
      "text/plain": [
       "array([[1., 0., 0., 0., 0.],\n",
       "       [0., 1., 0., 0., 0.],\n",
       "       [0., 0., 1., 0., 0.],\n",
       "       [0., 0., 0., 1., 0.],\n",
       "       [0., 0., 0., 0., 1.]])"
      ]
     },
     "execution_count": 15,
     "metadata": {},
     "output_type": "execute_result"
    }
   ],
   "source": [
    "np.eye(5)"
   ]
  },
  {
   "cell_type": "markdown",
   "id": "8ab9964c",
   "metadata": {},
   "source": [
    "Random Method"
   ]
  },
  {
   "cell_type": "code",
   "execution_count": 16,
   "id": "e1b0cb3a",
   "metadata": {},
   "outputs": [],
   "source": [
    "#this gives the alternate numbers from 0 to 1 \n",
    "#helps in both 1-d and 2-d arrays"
   ]
  },
  {
   "cell_type": "code",
   "execution_count": 17,
   "id": "24cadb74",
   "metadata": {},
   "outputs": [
    {
     "data": {
      "text/plain": [
       "array([0.11784656, 0.62727433, 0.0091265 ])"
      ]
     },
     "execution_count": 17,
     "metadata": {},
     "output_type": "execute_result"
    }
   ],
   "source": [
    "np.random.rand(3)"
   ]
  },
  {
   "cell_type": "code",
   "execution_count": 18,
   "id": "1a02b06f",
   "metadata": {},
   "outputs": [
    {
     "data": {
      "text/plain": [
       "array([[0.91267889, 0.51034336, 0.00279983],\n",
       "       [0.65410558, 0.73287414, 0.19021931],\n",
       "       [0.5755321 , 0.32501711, 0.83669944]])"
      ]
     },
     "execution_count": 18,
     "metadata": {},
     "output_type": "execute_result"
    }
   ],
   "source": [
    "#2d-array\n",
    "np.random.rand(3,3)"
   ]
  },
  {
   "cell_type": "markdown",
   "id": "bf262ead",
   "metadata": {},
   "source": [
    "Standard Normal distribution or Gaussian Distribution"
   ]
  },
  {
   "cell_type": "code",
   "execution_count": 19,
   "id": "a842557a",
   "metadata": {},
   "outputs": [
    {
     "data": {
      "text/plain": [
       "array([ 1.7626904 , -0.41641417, -0.67655638,  0.68560475])"
      ]
     },
     "execution_count": 19,
     "metadata": {},
     "output_type": "execute_result"
    }
   ],
   "source": [
    "#this will not return the numbers from 0 to 1 instead it returns standard normal distribution centre around Zero\n",
    "np.random.randn(4)"
   ]
  },
  {
   "cell_type": "code",
   "execution_count": 21,
   "id": "12f57e97",
   "metadata": {},
   "outputs": [
    {
     "data": {
      "text/plain": [
       "array([[ 1.48671358, -0.31164038, -2.49956516, -1.02993208],\n",
       "       [ 0.55059812, -1.18386161,  0.77140214, -0.42665244],\n",
       "       [ 0.62629005, -0.75479293,  0.65270345,  0.13761138],\n",
       "       [ 0.15651308, -0.81717429, -1.47659589, -0.17426219]])"
      ]
     },
     "execution_count": 21,
     "metadata": {},
     "output_type": "execute_result"
    }
   ],
   "source": [
    "np.random.randn(4,4)"
   ]
  },
  {
   "cell_type": "code",
   "execution_count": 22,
   "id": "7e0beb95",
   "metadata": {},
   "outputs": [
    {
     "data": {
      "text/plain": [
       "array([22, 39, 34,  2, 76, 45, 52, 40, 38, 81])"
      ]
     },
     "execution_count": 22,
     "metadata": {},
     "output_type": "execute_result"
    }
   ],
   "source": [
    "#randint gives the random values between the specified values\n",
    "np.random.randint(1,100,10)"
   ]
  },
  {
   "cell_type": "code",
   "execution_count": 26,
   "id": "e4fc053e",
   "metadata": {},
   "outputs": [],
   "source": [
    "arr = np.arange(25)"
   ]
  },
  {
   "cell_type": "code",
   "execution_count": 27,
   "id": "805eef72",
   "metadata": {},
   "outputs": [
    {
     "data": {
      "text/plain": [
       "array([ 0,  1,  2,  3,  4,  5,  6,  7,  8,  9, 10, 11, 12, 13, 14, 15, 16,\n",
       "       17, 18, 19, 20, 21, 22, 23, 24])"
      ]
     },
     "execution_count": 27,
     "metadata": {},
     "output_type": "execute_result"
    }
   ],
   "source": [
    "arr"
   ]
  },
  {
   "cell_type": "code",
   "execution_count": 30,
   "id": "93cc1d38",
   "metadata": {},
   "outputs": [],
   "source": [
    "#reshape method from 1-d to 2-d array\n",
    "two_d_array=arr.reshape(5,5)"
   ]
  },
  {
   "cell_type": "code",
   "execution_count": 31,
   "id": "13a16c71",
   "metadata": {},
   "outputs": [
    {
     "data": {
      "text/plain": [
       "array([[ 0,  1,  2,  3,  4],\n",
       "       [ 5,  6,  7,  8,  9],\n",
       "       [10, 11, 12, 13, 14],\n",
       "       [15, 16, 17, 18, 19],\n",
       "       [20, 21, 22, 23, 24]])"
      ]
     },
     "execution_count": 31,
     "metadata": {},
     "output_type": "execute_result"
    }
   ],
   "source": [
    "two_d_array"
   ]
  },
  {
   "cell_type": "code",
   "execution_count": 32,
   "id": "d99438f9",
   "metadata": {},
   "outputs": [],
   "source": [
    "one_d_array = arr.reshape(25)"
   ]
  },
  {
   "cell_type": "code",
   "execution_count": 33,
   "id": "14184b7d",
   "metadata": {},
   "outputs": [
    {
     "data": {
      "text/plain": [
       "array([ 0,  1,  2,  3,  4,  5,  6,  7,  8,  9, 10, 11, 12, 13, 14, 15, 16,\n",
       "       17, 18, 19, 20, 21, 22, 23, 24])"
      ]
     },
     "execution_count": 33,
     "metadata": {},
     "output_type": "execute_result"
    }
   ],
   "source": [
    "one_d_array"
   ]
  },
  {
   "cell_type": "code",
   "execution_count": 35,
   "id": "42e1b3df",
   "metadata": {},
   "outputs": [
    {
     "data": {
      "text/plain": [
       "24"
      ]
     },
     "execution_count": 35,
     "metadata": {},
     "output_type": "execute_result"
    }
   ],
   "source": [
    "#to get the max and min values of array\n",
    "one_d_array.max()"
   ]
  },
  {
   "cell_type": "code",
   "execution_count": 36,
   "id": "ac2ab0c2",
   "metadata": {},
   "outputs": [
    {
     "data": {
      "text/plain": [
       "0"
      ]
     },
     "execution_count": 36,
     "metadata": {},
     "output_type": "execute_result"
    }
   ],
   "source": [
    "\n",
    "one_d_array.min()"
   ]
  },
  {
   "cell_type": "code",
   "execution_count": 37,
   "id": "be6eeb13",
   "metadata": {},
   "outputs": [
    {
     "data": {
      "text/plain": [
       "24"
      ]
     },
     "execution_count": 37,
     "metadata": {},
     "output_type": "execute_result"
    }
   ],
   "source": [
    "#toget the indexes of max and min values in array\n",
    "one_d_array.argmax()"
   ]
  },
  {
   "cell_type": "code",
   "execution_count": 38,
   "id": "70f47fcd",
   "metadata": {},
   "outputs": [
    {
     "data": {
      "text/plain": [
       "0"
      ]
     },
     "execution_count": 38,
     "metadata": {},
     "output_type": "execute_result"
    }
   ],
   "source": [
    "one_d_array.argmin()"
   ]
  },
  {
   "cell_type": "code",
   "execution_count": null,
   "id": "d8e3ce37",
   "metadata": {},
   "outputs": [],
   "source": []
  }
 ],
 "metadata": {
  "kernelspec": {
   "display_name": "Python 3",
   "language": "python",
   "name": "python3"
  },
  "language_info": {
   "codemirror_mode": {
    "name": "ipython",
    "version": 3
   },
   "file_extension": ".py",
   "mimetype": "text/x-python",
   "name": "python",
   "nbconvert_exporter": "python",
   "pygments_lexer": "ipython3",
   "version": "3.8.8"
  }
 },
 "nbformat": 4,
 "nbformat_minor": 5
}
